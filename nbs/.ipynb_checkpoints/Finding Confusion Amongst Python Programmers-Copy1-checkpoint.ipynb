{
 "cells": [
  {
   "cell_type": "markdown",
   "metadata": {},
   "source": [
    "# Data Science Worksheet"
   ]
  },
  {
   "cell_type": "markdown",
   "metadata": {},
   "source": [
    "## 1. Ask our question"
   ]
  },
  {
   "cell_type": "markdown",
   "metadata": {},
   "source": [
    "Which aspects of Python programming most commonly confuses programmers?"
   ]
  },
  {
   "cell_type": "markdown",
   "metadata": {},
   "source": [
    "## 2. Get the data"
   ]
  },
  {
   "cell_type": "markdown",
   "metadata": {},
   "source": [
    "Stack Overflow has a lot of relevant data.  For the purposes of today's exercise, let's pretend\n",
    "that Stack Overflow does not an API.\n",
    "\n",
    "So which publicly accessible pages hold that data?"
   ]
  },
  {
   "cell_type": "code",
   "execution_count": 5,
   "metadata": {
    "collapsed": true
   },
   "outputs": [],
   "source": [
    "SO_URL = \"https://stackoverflow.com/questions/tagged/{}?page={}&sort=frequent&pagesize=50\"\n",
    "# print(SO_URL.format(\"python\", 1))"
   ]
  },
  {
   "cell_type": "markdown",
   "metadata": {},
   "source": [
    "So we want the HTML from `SO_URL`, which is available via the HTTP\n",
    "protocol that a browser users.  How do we send that request in Python?"
   ]
  },
  {
   "cell_type": "markdown",
   "metadata": {},
   "source": [
    "### the `requests` library"
   ]
  },
  {
   "cell_type": "code",
   "execution_count": 9,
   "metadata": {
    "collapsed": true
   },
   "outputs": [],
   "source": [
    "import requests\n",
    "\n",
    "SO_response = requests.get(SO_URL.format('python', 1))\n",
    "\n",
    "if SO_response.status_code == 200:\n",
    "    SO_page_html = SO_response.text\n",
    "\n",
    "# print(SO_page_html)"
   ]
  },
  {
   "cell_type": "markdown",
   "metadata": {},
   "source": [
    "### Data wrangling\n",
    "\n",
    "So now we have our raw (primary) data.  It needs to be cleaned and structured.\n",
    "\n"
   ]
  },
  {
   "cell_type": "code",
   "execution_count": 22,
   "metadata": {
    "collapsed": true
   },
   "outputs": [],
   "source": [
    "from bs4 import BeautifulSoup\n",
    "\n",
    "soup = BeautifulSoup(SO_page_html, \"html.parser\")\n",
    "\n",
    "question_summaries = soup.find_all(\"div\", class_='question-summary')\n",
    "\n",
    "# print(len(question_summaries))\n",
    "# print(question_summaries[0])"
   ]
  },
  {
   "cell_type": "markdown",
   "metadata": {},
   "source": [
    "Drill down further."
   ]
  },
  {
   "cell_type": "code",
   "execution_count": 46,
   "metadata": {},
   "outputs": [
    {
     "name": "stdout",
     "output_type": "stream",
     "text": [
      "[(103166, '“Least Astonishment” and the Mutable Default Argument'), (86055, 'How do I test multiple variables against a value?'), (989877, \"Understanding Python's slice notation\"), (202286, 'Asking the user for input until they give a valid response'), (15088, 'List of lists changes reflected across sublists unexpectedly'), (853640, 'How to clone or copy a list?'), (74704, 'How do I create a variable number of variables?'), (533807, 'How do you split a list into evenly sized chunks?'), (855733, 'How do I pass a variable by reference?'), (280455, 'Remove items from a list while iterating'), (943642, 'Making a flat list out of list of lists in Python'), (5184, 'How to make good reproducible pandas examples'), (403271, 'How can I read inputs as integers?'), (1555307, 'What does the “yield” keyword do?'), (192712, 'Short Description of the Scoping Rules?'), (340544, 'What does ** (double star/asterisk) and * (star/asterisk) do for parameters?'), (2272003, 'Calling an external command in Python'), (1462424, 'What does if __name__ == “__main__”: do?'), (2382701, 'Using global variables in a function other than the one that created them'), (1563221, 'How do I sort a dictionary by value?'), (82813, 'Flatten (an irregular) list of lists'), (555241, 'What are metaclasses in Python?'), (2081216, 'How do I install pip on Windows?'), (43302, '“is” operator behaves unexpectedly with integers'), (172003, 'Syntax error on print with Python 3 [duplicate]'), (1168429, 'Does Python have a ternary conditional operator?'), (10039, 'Why is the order in dictionaries and sets arbitrary?'), (14411, 'How to avoid having class data shared among instances?'), (411667, 'How to make a chain of function decorators?'), (457195, 'Is there any way to kill a Thread in Python?'), (410077, 'Difference between __str__ and __repr__ in Python'), (9861, 'Why is Button parameter “command” executed when declared?'), (9040, 'Why does `a == b or c or d` always evaluate to True? [duplicate]'), (21259, \"Why is using 'eval' a bad practice?\"), (583965, 'What is the purpose of self?'), (245952, 'What is the meaning of a single- and a double-underscore before an object name?'), (426379, 'How do you remove duplicates from a list in whilst preserving order?'), (765166, 'error: Unable to find vcvarsall.bat'), (144740, 'Flattening a shallow list in Python [duplicate]'), (1075055, \"Why does comparing strings in Python using either '==' or 'is' sometimes produce a different result?\"), (822733, 'Static class variables in Python'), (713468, 'How to add to the pythonpath in windows 7?'), (349835, \"input() error - NameError: name '…' is not defined\"), (100381, 'Get the cartesian product of a series of lists?'), (1473099, 'Converting string into datetime'), (480121, 'How can I force division to be floating point? Division keeps rounding down to 0'), (74322, 'What is the most “pythonic” way to iterate over a list in chunks?'), (317567, 'How to iterate through two lists in parallel?'), (990585, 'How to merge two dictionaries in a single expression?'), (324735, 'How can you profile a script?')]\n"
     ]
    }
   ],
   "source": [
    "dataset = []\n",
    "\n",
    "for summary in question_summaries:\n",
    "#     print(type(summary))\n",
    "    question = summary.find('a', class_='question-hyperlink').text\n",
    "    views = int(summary.find('div', class_='views')['title'].split(\" \")[0].replace(\",\", \"\"))\n",
    "    vq = (views, question)\n",
    "    \n",
    "    dataset.append(vq)\n",
    "\n",
    "print(dataset)"
   ]
  },
  {
   "cell_type": "code",
   "execution_count": 54,
   "metadata": {
    "collapsed": true
   },
   "outputs": [],
   "source": [
    "dataset2 = []\n",
    "for vq in dataset:\n",
    "    views, question = vq\n",
    "    words = question.split(\" \")\n",
    "    for word in words: \n",
    "        dataset2.append((views, word))\n",
    "\n",
    "# dataset\n",
    "\n",
    "# print(dataset2)"
   ]
  },
  {
   "cell_type": "markdown",
   "metadata": {},
   "source": [
    "## 3. Explore the data."
   ]
  },
  {
   "cell_type": "code",
   "execution_count": 60,
   "metadata": {},
   "outputs": [
    {
     "name": "stdout",
     "output_type": "stream",
     "text": [
      "      votes           word\n",
      "0    103166         “Least\n",
      "1    103166  Astonishment”\n",
      "2    103166            and\n",
      "3    103166            the\n",
      "4    103166        Mutable\n",
      "5    103166        Default\n",
      "6    103166       Argument\n",
      "7     86055            How\n",
      "8     86055             do\n",
      "9     86055              I\n",
      "10    86055           test\n",
      "11    86055       multiple\n",
      "12    86055      variables\n",
      "13    86055        against\n",
      "14    86055              a\n",
      "15    86055         value?\n",
      "16   989877  Understanding\n",
      "17   989877       Python's\n",
      "18   989877          slice\n",
      "19   989877       notation\n",
      "20   202286         Asking\n",
      "21   202286            the\n",
      "22   202286           user\n",
      "23   202286            for\n",
      "24   202286          input\n",
      "25   202286          until\n",
      "26   202286           they\n",
      "27   202286           give\n",
      "28   202286              a\n",
      "29   202286          valid\n",
      "..      ...            ...\n",
      "390   74322             to\n",
      "391   74322        iterate\n",
      "392   74322           over\n",
      "393   74322              a\n",
      "394   74322           list\n",
      "395   74322             in\n",
      "396   74322        chunks?\n",
      "397  317567            How\n",
      "398  317567             to\n",
      "399  317567        iterate\n",
      "400  317567        through\n",
      "401  317567            two\n",
      "402  317567          lists\n",
      "403  317567             in\n",
      "404  317567      parallel?\n",
      "405  990585            How\n",
      "406  990585             to\n",
      "407  990585          merge\n",
      "408  990585            two\n",
      "409  990585   dictionaries\n",
      "410  990585             in\n",
      "411  990585              a\n",
      "412  990585         single\n",
      "413  990585    expression?\n",
      "414  324735            How\n",
      "415  324735            can\n",
      "416  324735            you\n",
      "417  324735        profile\n",
      "418  324735              a\n",
      "419  324735        script?\n",
      "\n",
      "[420 rows x 2 columns]\n"
     ]
    }
   ],
   "source": [
    "import pandas as pd\n",
    "\n",
    "df = pd.DataFrame(dataset2, columns=(\"votes\", \"word\"))\n",
    "\n",
    "print(df)"
   ]
  },
  {
   "cell_type": "code",
   "execution_count": 113,
   "metadata": {},
   "outputs": [
    {
     "name": "stdout",
     "output_type": "stream",
     "text": [
      "138 1462424.0 ==\n",
      "255 9040.0 ==\n",
      "325 1075055.0 '=='\n",
      "votes    float64\n",
      "word      object\n",
      "dtype: object\n",
      "                word       votes\n",
      "0               '=='   1075055.0\n",
      "1             'eval'     21259.0\n",
      "2               'is'   1075055.0\n",
      "3                '…'    349835.0\n",
      "4                (an     82813.0\n",
      "5            (double    340544.0\n",
      "6    (star/asterisk)    340544.0\n",
      "7                  *    340544.0\n",
      "8                 **    340544.0\n",
      "9                  -    349835.0\n",
      "10                 0    480121.0\n",
      "11                 3    172003.0\n",
      "12                7?    713468.0\n",
      "13                ==   1471464.0\n",
      "14          Argument    103166.0\n",
      "15            Asking    202286.0\n",
      "16     Astonishment”    103166.0\n",
      "17            Button      9861.0\n",
      "18           Calling   2272003.0\n",
      "19        Converting   1473099.0\n",
      "20           Default    103166.0\n",
      "21       Description    192712.0\n",
      "22        Difference    410077.0\n",
      "23          Division    480121.0\n",
      "24              Does   1168429.0\n",
      "25           Flatten     82813.0\n",
      "26        Flattening    144740.0\n",
      "27               Get    100381.0\n",
      "28               How  10135764.0\n",
      "29                 I   5544321.0\n",
      "..               ...         ...\n",
      "217              the   6164299.0\n",
      "218             them   2382701.0\n",
      "219            there    457195.0\n",
      "220             they    202286.0\n",
      "221          through    317567.0\n",
      "222               to   6285955.0\n",
      "223              two   1308152.0\n",
      "224     unexpectedly     58390.0\n",
      "225            until    202286.0\n",
      "226             user    202286.0\n",
      "227            using   1096314.0\n",
      "228            valid    202286.0\n",
      "229           value?   1649276.0\n",
      "230         variable    930437.0\n",
      "231        variables   3291489.0\n",
      "232       variables?     74704.0\n",
      "233    vcvarsall.bat    765166.0\n",
      "234              way    531517.0\n",
      "235             when      9861.0\n",
      "236            while    280455.0\n",
      "237           whilst    426379.0\n",
      "238          windows    713468.0\n",
      "239             with    215305.0\n",
      "240              you   1284921.0\n",
      "241           “Least    103166.0\n",
      "242      “__main__”:   1462424.0\n",
      "243        “command”      9861.0\n",
      "244             “is”     43302.0\n",
      "245       “pythonic”     74322.0\n",
      "246          “yield”   1555307.0\n",
      "\n",
      "[247 rows x 2 columns]\n"
     ]
    }
   ],
   "source": [
    "for x, i in df.iterrows():\n",
    "    if \"==\" in i['word']:\n",
    "        print(x, i['votes'], i['word']) \n",
    "\n",
    "# df2_by_word = df.groupby(by='word').mean()\n",
    "\n",
    "# df['votes']  = df['votes'].astype(float)\n",
    "\n",
    "# print(df.dtypes)\n",
    "\n",
    "df2 = df.groupby('word', as_index=False).sum()\n",
    "print(df2)"
   ]
  },
  {
   "cell_type": "code",
   "execution_count": 119,
   "metadata": {
    "collapsed": true
   },
   "outputs": [],
   "source": [
    "word_frequencies = [tuple(x) for x in df2.values]"
   ]
  },
  {
   "cell_type": "code",
   "execution_count": 122,
   "metadata": {},
   "outputs": [
    {
     "name": "stdout",
     "output_type": "stream",
     "text": [
      "247\n"
     ]
    }
   ],
   "source": [
    "print(len(word_frequencies))"
   ]
  },
  {
   "cell_type": "markdown",
   "metadata": {},
   "source": [
    "Now let's think more about the data via visualization:"
   ]
  },
  {
   "cell_type": "code",
   "execution_count": 1,
   "metadata": {},
   "outputs": [
    {
     "ename": "ModuleNotFoundError",
     "evalue": "No module named 'wordcloud'",
     "output_type": "error",
     "traceback": [
      "\u001b[0;31m---------------------------------------------------------------------------\u001b[0m",
      "\u001b[0;31mModuleNotFoundError\u001b[0m                       Traceback (most recent call last)",
      "\u001b[0;32m<ipython-input-1-8038e19af624>\u001b[0m in \u001b[0;36m<module>\u001b[0;34m()\u001b[0m\n\u001b[0;32m----> 1\u001b[0;31m \u001b[0;32mfrom\u001b[0m \u001b[0mwordcloud\u001b[0m \u001b[0;32mimport\u001b[0m \u001b[0mWordCloud\u001b[0m\u001b[0;34m\u001b[0m\u001b[0m\n\u001b[0m",
      "\u001b[0;31mModuleNotFoundError\u001b[0m: No module named 'wordcloud'"
     ]
    }
   ],
   "source": [
    "from wordcloud import WordCloud"
   ]
  },
  {
   "cell_type": "markdown",
   "metadata": {},
   "source": [
    "## 4. Model the data (optional)"
   ]
  },
  {
   "cell_type": "markdown",
   "metadata": {},
   "source": [
    "## 5. Communicate the data."
   ]
  },
  {
   "cell_type": "code",
   "execution_count": null,
   "metadata": {
    "collapsed": true
   },
   "outputs": [],
   "source": []
  },
  {
   "cell_type": "code",
   "execution_count": null,
   "metadata": {
    "collapsed": true
   },
   "outputs": [],
   "source": []
  }
 ],
 "metadata": {
  "kernelspec": {
   "display_name": "Python 3",
   "language": "python",
   "name": "python3"
  },
  "language_info": {
   "codemirror_mode": {
    "name": "ipython",
    "version": 3
   },
   "file_extension": ".py",
   "mimetype": "text/x-python",
   "name": "python",
   "nbconvert_exporter": "python",
   "pygments_lexer": "ipython3",
   "version": "3.6.3"
  }
 },
 "nbformat": 4,
 "nbformat_minor": 2
}
