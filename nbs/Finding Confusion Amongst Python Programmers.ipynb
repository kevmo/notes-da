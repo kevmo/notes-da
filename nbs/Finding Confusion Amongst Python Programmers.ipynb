{
 "cells": [
  {
   "cell_type": "markdown",
   "metadata": {},
   "source": [
    "# Data Science Worksheet"
   ]
  },
  {
   "cell_type": "code",
   "execution_count": 1,
   "metadata": {
    "collapsed": true
   },
   "outputs": [],
   "source": [
    "%matplotlib inline\n",
    "%reload_ext autoreload\n",
    "%autoreload 2"
   ]
  },
  {
   "cell_type": "markdown",
   "metadata": {},
   "source": [
    "## 1. Ask our question"
   ]
  },
  {
   "cell_type": "markdown",
   "metadata": {},
   "source": [
    "Which aspects of Python programming most commonly confuses programmers?"
   ]
  },
  {
   "cell_type": "markdown",
   "metadata": {},
   "source": [
    "## 2. Get the data"
   ]
  },
  {
   "cell_type": "markdown",
   "metadata": {},
   "source": [
    "Stack Overflow has a lot of relevant data.  For the purposes of today's exercise, let's pretend\n",
    "that Stack Overflow does not an API.\n",
    "\n",
    "So which publicly accessible pages hold that data?"
   ]
  },
  {
   "cell_type": "code",
   "execution_count": 2,
   "metadata": {
    "collapsed": true
   },
   "outputs": [],
   "source": [
    "SO_URL = \"https://stackoverflow.com/questions/tagged/{}?page={}&sort=frequent&pagesize=50\"\n",
    "# print(SO_URL.format(\"python\", 1))"
   ]
  },
  {
   "cell_type": "markdown",
   "metadata": {},
   "source": [
    "So we want the HTML from `SO_URL`, which is available via the HTTP\n",
    "protocol that a browser users.  How do we send that request in Python?"
   ]
  },
  {
   "cell_type": "markdown",
   "metadata": {},
   "source": [
    "### the `requests` library"
   ]
  },
  {
   "cell_type": "code",
   "execution_count": 3,
   "metadata": {
    "collapsed": true
   },
   "outputs": [],
   "source": [
    "import requests\n",
    "\n",
    "SO_response = requests.get(SO_URL.format('python', 1))\n",
    "\n",
    "if SO_response.status_code == 200:\n",
    "    SO_page_html = SO_response.text\n",
    "\n",
    "# print(SO_page_html)"
   ]
  },
  {
   "cell_type": "markdown",
   "metadata": {},
   "source": [
    "### Data wrangling\n",
    "\n",
    "So now we have our raw (primary) data.  It needs to be cleaned and structured.\n",
    "\n"
   ]
  },
  {
   "cell_type": "code",
   "execution_count": 4,
   "metadata": {
    "collapsed": true
   },
   "outputs": [],
   "source": [
    "from bs4 import BeautifulSoup\n",
    "\n",
    "soup = BeautifulSoup(SO_page_html, \"html.parser\")\n",
    "\n",
    "question_summaries = soup.find_all(\"div\", class_='question-summary')\n",
    "\n",
    "# print(len(question_summaries))\n",
    "# print(question_summaries[0])"
   ]
  },
  {
   "cell_type": "markdown",
   "metadata": {},
   "source": [
    "Drill down further."
   ]
  },
  {
   "cell_type": "code",
   "execution_count": 5,
   "metadata": {},
   "outputs": [
    {
     "name": "stdout",
     "output_type": "stream",
     "text": [
      "[(103221, '“Least Astonishment” and the Mutable Default Argument'), (86148, 'How do I test multiple variables against a value?'), (990680, \"Understanding Python's slice notation\"), (202566, 'Asking the user for input until they give a valid response'), (15102, 'List of lists changes reflected across sublists unexpectedly'), (854576, 'How to clone or copy a list?'), (74765, 'How do I create a variable number of variables?'), (534278, 'How do you split a list into evenly sized chunks?'), (856361, 'How do I pass a variable by reference?'), (280706, 'Remove items from a list while iterating'), (944774, 'Making a flat list out of list of lists in Python'), (5211, 'How to make good reproducible pandas examples'), (403889, 'How can I read inputs as integers?'), (1556456, 'What does the “yield” keyword do?'), (192858, 'Short Description of the Scoping Rules?'), (340961, 'What does ** (double star/asterisk) and * (star/asterisk) do for parameters?'), (2273641, 'Calling an external command in Python'), (1464217, 'What does if __name__ == “__main__”: do?'), (2384272, 'Using global variables in a function other than the one that created them'), (1564368, 'How do I sort a dictionary by value?'), (82846, 'Flatten (an irregular) list of lists'), (555554, 'What are metaclasses in Python?'), (2082862, 'How do I install pip on Windows?'), (43320, '“is” operator behaves unexpectedly with integers'), (172070, 'Syntax error on print with Python 3 [duplicate]'), (1169810, 'Does Python have a ternary conditional operator?'), (10041, 'Why is the order in dictionaries and sets arbitrary?'), (14420, 'How to avoid having class data shared among instances?'), (411790, 'How to make a chain of function decorators?'), (457556, 'Is there any way to kill a Thread in Python?'), (410380, 'Difference between __str__ and __repr__ in Python'), (9869, 'Why is Button parameter “command” executed when declared?'), (9051, 'Why does `a == b or c or d` always evaluate to True? [duplicate]'), (21276, \"Why is using 'eval' a bad practice?\"), (584419, 'What is the purpose of self?'), (246131, 'What is the meaning of a single- and a double-underscore before an object name?'), (426472, 'How do you remove duplicates from a list in whilst preserving order?'), (765383, 'error: Unable to find vcvarsall.bat'), (144771, 'Flattening a shallow list in Python [duplicate]'), (1075852, \"Why does comparing strings in Python using either '==' or 'is' sometimes produce a different result?\"), (823326, 'Static class variables in Python'), (714354, 'How to add to the pythonpath in windows 7?'), (350265, \"input() error - NameError: name '…' is not defined\"), (100493, 'Get the cartesian product of a series of lists?'), (1474826, 'Converting string into datetime'), (480488, 'How can I force division to be floating point? Division keeps rounding down to 0'), (74377, 'What is the most “pythonic” way to iterate over a list in chunks?'), (317941, 'How to iterate through two lists in parallel?'), (991624, 'How to merge two dictionaries in a single expression?'), (324928, 'How can you profile a script?')]\n"
     ]
    }
   ],
   "source": [
    "dataset = []\n",
    "\n",
    "for summary in question_summaries:\n",
    "#     print(type(summary))\n",
    "    question = summary.find('a', class_='question-hyperlink').text\n",
    "    views = int(summary.find('div', class_='views')['title'].split(\" \")[0].replace(\",\", \"\"))\n",
    "    vq = (views, question)\n",
    "    \n",
    "    dataset.append(vq)\n",
    "\n",
    "print(dataset)"
   ]
  },
  {
   "cell_type": "code",
   "execution_count": 6,
   "metadata": {
    "collapsed": true
   },
   "outputs": [],
   "source": [
    "dataset2 = []\n",
    "for vq in dataset:\n",
    "    views, question = vq\n",
    "    words = question.split(\" \")\n",
    "    for word in words: \n",
    "        dataset2.append((views, word))\n",
    "\n",
    "# dataset\n",
    "\n",
    "# print(dataset2)"
   ]
  },
  {
   "cell_type": "markdown",
   "metadata": {},
   "source": [
    "## 3. Explore the data."
   ]
  },
  {
   "cell_type": "code",
   "execution_count": 7,
   "metadata": {},
   "outputs": [
    {
     "name": "stdout",
     "output_type": "stream",
     "text": [
      "      votes           word\n",
      "0    103221         “Least\n",
      "1    103221  Astonishment”\n",
      "2    103221            and\n",
      "3    103221            the\n",
      "4    103221        Mutable\n",
      "5    103221        Default\n",
      "6    103221       Argument\n",
      "7     86148            How\n",
      "8     86148             do\n",
      "9     86148              I\n",
      "10    86148           test\n",
      "11    86148       multiple\n",
      "12    86148      variables\n",
      "13    86148        against\n",
      "14    86148              a\n",
      "15    86148         value?\n",
      "16   990680  Understanding\n",
      "17   990680       Python's\n",
      "18   990680          slice\n",
      "19   990680       notation\n",
      "20   202566         Asking\n",
      "21   202566            the\n",
      "22   202566           user\n",
      "23   202566            for\n",
      "24   202566          input\n",
      "25   202566          until\n",
      "26   202566           they\n",
      "27   202566           give\n",
      "28   202566              a\n",
      "29   202566          valid\n",
      "..      ...            ...\n",
      "390   74377             to\n",
      "391   74377        iterate\n",
      "392   74377           over\n",
      "393   74377              a\n",
      "394   74377           list\n",
      "395   74377             in\n",
      "396   74377        chunks?\n",
      "397  317941            How\n",
      "398  317941             to\n",
      "399  317941        iterate\n",
      "400  317941        through\n",
      "401  317941            two\n",
      "402  317941          lists\n",
      "403  317941             in\n",
      "404  317941      parallel?\n",
      "405  991624            How\n",
      "406  991624             to\n",
      "407  991624          merge\n",
      "408  991624            two\n",
      "409  991624   dictionaries\n",
      "410  991624             in\n",
      "411  991624              a\n",
      "412  991624         single\n",
      "413  991624    expression?\n",
      "414  324928            How\n",
      "415  324928            can\n",
      "416  324928            you\n",
      "417  324928        profile\n",
      "418  324928              a\n",
      "419  324928        script?\n",
      "\n",
      "[420 rows x 2 columns]\n"
     ]
    }
   ],
   "source": [
    "import pandas as pd\n",
    "\n",
    "df = pd.DataFrame(dataset2, columns=(\"votes\", \"word\"))\n",
    "\n",
    "print(df)"
   ]
  },
  {
   "cell_type": "code",
   "execution_count": 8,
   "metadata": {},
   "outputs": [
    {
     "name": "stdout",
     "output_type": "stream",
     "text": [
      "138 1464217 ==\n",
      "255 9051 ==\n",
      "325 1075852 '=='\n",
      "                word     votes\n",
      "0               '=='   1075852\n",
      "1             'eval'     21276\n",
      "2               'is'   1075852\n",
      "3                '…'    350265\n",
      "4                (an     82846\n",
      "5            (double    340961\n",
      "6    (star/asterisk)    340961\n",
      "7                  *    340961\n",
      "8                 **    340961\n",
      "9                  -    350265\n",
      "10                 0    480488\n",
      "11                 3    172070\n",
      "12                7?    714354\n",
      "13                ==   1473268\n",
      "14          Argument    103221\n",
      "15            Asking    202566\n",
      "16     Astonishment”    103221\n",
      "17            Button      9869\n",
      "18           Calling   2273641\n",
      "19        Converting   1474826\n",
      "20           Default    103221\n",
      "21       Description    192858\n",
      "22        Difference    410380\n",
      "23          Division    480488\n",
      "24              Does   1169810\n",
      "25           Flatten     82846\n",
      "26        Flattening    144771\n",
      "27               Get    100493\n",
      "28               How  10144475\n",
      "29                 I   5548881\n",
      "..               ...       ...\n",
      "217              the   6169188\n",
      "218             them   2384272\n",
      "219            there    457556\n",
      "220             they    202566\n",
      "221          through    317941\n",
      "222               to   6291613\n",
      "223              two   1309565\n",
      "224     unexpectedly     58422\n",
      "225            until    202566\n",
      "226             user    202566\n",
      "227            using   1097128\n",
      "228            valid    202566\n",
      "229           value?   1650516\n",
      "230         variable    931126\n",
      "231        variables   3293746\n",
      "232       variables?     74765\n",
      "233    vcvarsall.bat    765383\n",
      "234              way    531933\n",
      "235             when      9869\n",
      "236            while    280706\n",
      "237           whilst    426472\n",
      "238          windows    714354\n",
      "239             with    215390\n",
      "240              you   1285678\n",
      "241           “Least    103221\n",
      "242      “__main__”:   1464217\n",
      "243        “command”      9869\n",
      "244             “is”     43320\n",
      "245       “pythonic”     74377\n",
      "246          “yield”   1556456\n",
      "\n",
      "[247 rows x 2 columns]\n"
     ]
    }
   ],
   "source": [
    "for x, i in df.iterrows():\n",
    "    if \"==\" in i['word']:\n",
    "        print(x, i['votes'], i['word']) \n",
    "\n",
    "# df2_by_word = df.groupby(by='word').mean()\n",
    "\n",
    "# df['votes']  = df['votes'].astype(float)\n",
    "\n",
    "# print(df.dtypes)\n",
    "\n",
    "df2 = df.groupby('word', as_index=False).sum()\n",
    "print(df2)"
   ]
  },
  {
   "cell_type": "code",
   "execution_count": 9,
   "metadata": {
    "collapsed": true
   },
   "outputs": [],
   "source": [
    "word_frequencies = {x:y for x, y in df2.values}"
   ]
  },
  {
   "cell_type": "code",
   "execution_count": 10,
   "metadata": {},
   "outputs": [
    {
     "name": "stdout",
     "output_type": "stream",
     "text": [
      "{\"'=='\": 1075852, \"'eval'\": 21276, \"'is'\": 1075852, \"'…'\": 350265, '(an': 82846, '(double': 340961, '(star/asterisk)': 340961, '*': 340961, '**': 340961, '-': 350265, '0': 480488, '3': 172070, '7?': 714354, '==': 1473268, 'Argument': 103221, 'Asking': 202566, 'Astonishment”': 103221, 'Button': 9869, 'Calling': 2273641, 'Converting': 1474826, 'Default': 103221, 'Description': 192858, 'Difference': 410380, 'Division': 480488, 'Does': 1169810, 'Flatten': 82846, 'Flattening': 144771, 'Get': 100493, 'How': 10144475, 'I': 5548881, 'Is': 457556, 'List': 15102, 'Making': 944774, 'Mutable': 103221, 'NameError:': 350265, 'Python': 7014624, \"Python's\": 990680, 'Python?': 1013110, 'Remove': 280706, 'Rules?': 192858, 'Scoping': 192858, 'Short': 192858, 'Static': 823326, 'Syntax': 172070, 'Thread': 457556, 'True?': 9051, 'Unable': 765383, 'Understanding': 990680, 'Using': 2384272, 'What': 4822115, 'Why': 1126089, 'Windows?': 2082862, '[duplicate]': 325892, '__name__': 1464217, '__repr__': 410380, '__str__': 410380, '`a': 9051, 'a': 13474025, 'across': 15102, 'add': 714354, 'against': 86148, 'always': 9051, 'among': 14420, 'an': 2519772, 'and': 1110734, 'any': 457556, 'arbitrary?': 10041, 'are': 555554, 'as': 403889, 'avoid': 14420, 'b': 9051, 'bad': 21276, 'be': 480488, 'before': 246131, 'behaves': 43320, 'between': 410380, 'by': 2420729, 'c': 9051, 'can': 1209305, 'cartesian': 100493, 'chain': 411790, 'changes': 15102, 'chunks?': 608655, 'class': 837746, 'clone': 854576, 'command': 2273641, 'comparing': 1075852, 'conditional': 1169810, 'copy': 854576, 'create': 74765, 'created': 2384272, 'd`': 9051, 'data': 14420, 'datetime': 1474826, 'declared?': 9869, 'decorators?': 411790, 'defined': 350265, 'dictionaries': 1001665, 'dictionary': 1564368, 'different': 1075852, 'division': 480488, 'do': 5966215, 'do?': 3020673, 'does': 4446537, 'double-underscore': 246131, 'down': 480488, 'duplicates': 426472, 'either': 1075852, 'error': 522335, 'error:': 765383, 'evaluate': 9051, 'evenly': 534278, 'examples': 5211, 'executed': 9869, 'expression?': 991624, 'external': 2273641, 'find': 765383, 'flat': 944774, 'floating': 480488, 'for': 543527, 'force': 480488, 'from': 707178, 'function': 2796062, 'give': 202566, 'global': 2384272, 'good': 5211, 'have': 1169810, 'having': 14420, 'if': 1464217, 'in': 11604935, 'input': 202566, 'input()': 350265, 'inputs': 403889, 'install': 2082862, 'instances?': 14420, 'integers': 43320, 'integers?': 403889, 'into': 2009104, 'irregular)': 82846, 'is': 1296378, 'items': 280706, 'iterate': 392318, 'iterating': 280706, 'keeps': 480488, 'keyword': 1556456, 'kill': 457556, 'list': 3432998, 'list?': 854576, 'lists': 1360663, 'lists?': 100493, 'make': 417001, 'meaning': 246131, 'merge': 991624, 'metaclasses': 555554, 'most': 74377, 'multiple': 86148, 'name': 350265, 'name?': 246131, 'not': 350265, 'notation': 990680, 'number': 74765, 'object': 246131, 'of': 3698445, 'on': 2254932, 'one': 2384272, 'operator': 43320, 'operator?': 1169810, 'or': 1948530, 'order': 10041, 'order?': 426472, 'other': 2384272, 'out': 944774, 'over': 74377, 'pandas': 5211, 'parallel?': 317941, 'parameter': 9869, 'parameters?': 340961, 'pass': 856361, 'pip': 2082862, 'point?': 480488, 'practice?': 21276, 'preserving': 426472, 'print': 172070, 'produce': 1075852, 'product': 100493, 'profile': 324928, 'purpose': 584419, 'pythonpath': 714354, 'read': 403889, 'reference?': 856361, 'reflected': 15102, 'remove': 426472, 'reproducible': 5211, 'response': 202566, 'result?': 1075852, 'rounding': 480488, 'script?': 324928, 'self?': 584419, 'series': 100493, 'sets': 10041, 'shallow': 144771, 'shared': 14420, 'single': 991624, 'single-': 246131, 'sized': 534278, 'slice': 990680, 'sometimes': 1075852, 'sort': 1564368, 'split': 534278, 'star/asterisk)': 340961, 'string': 1474826, 'strings': 1075852, 'sublists': 15102, 'ternary': 1169810, 'test': 86148, 'than': 2384272, 'that': 2384272, 'the': 6169188, 'them': 2384272, 'there': 457556, 'they': 202566, 'through': 317941, 'to': 6291613, 'two': 1309565, 'unexpectedly': 58422, 'until': 202566, 'user': 202566, 'using': 1097128, 'valid': 202566, 'value?': 1650516, 'variable': 931126, 'variables': 3293746, 'variables?': 74765, 'vcvarsall.bat': 765383, 'way': 531933, 'when': 9869, 'while': 280706, 'whilst': 426472, 'windows': 714354, 'with': 215390, 'you': 1285678, '“Least': 103221, '“__main__”:': 1464217, '“command”': 9869, '“is”': 43320, '“pythonic”': 74377, '“yield”': 1556456}\n"
     ]
    }
   ],
   "source": [
    "print(word_frequencies)"
   ]
  },
  {
   "cell_type": "markdown",
   "metadata": {},
   "source": [
    "Now let's think more about the data via visualization:"
   ]
  },
  {
   "cell_type": "code",
   "execution_count": 11,
   "metadata": {},
   "outputs": [
    {
     "ename": "ModuleNotFoundError",
     "evalue": "No module named 'wordcloud'",
     "output_type": "error",
     "traceback": [
      "\u001b[0;31m---------------------------------------------------------------------------\u001b[0m",
      "\u001b[0;31mModuleNotFoundError\u001b[0m                       Traceback (most recent call last)",
      "\u001b[0;32m<ipython-input-11-2079f7d74478>\u001b[0m in \u001b[0;36m<module>\u001b[0;34m()\u001b[0m\n\u001b[1;32m      1\u001b[0m \u001b[0;32mimport\u001b[0m \u001b[0mmatplotlib\u001b[0m\u001b[0;34m.\u001b[0m\u001b[0mpyplot\u001b[0m \u001b[0;32mas\u001b[0m \u001b[0mplt\u001b[0m\u001b[0;34m\u001b[0m\u001b[0m\n\u001b[0;32m----> 2\u001b[0;31m \u001b[0;32mfrom\u001b[0m \u001b[0mwordcloud\u001b[0m \u001b[0;32mimport\u001b[0m \u001b[0mWordCloud\u001b[0m\u001b[0;34m\u001b[0m\u001b[0m\n\u001b[0m\u001b[1;32m      3\u001b[0m \u001b[0mwordcloud\u001b[0m \u001b[0;34m=\u001b[0m \u001b[0mWordCloud\u001b[0m\u001b[0;34m(\u001b[0m\u001b[0;34m)\u001b[0m\u001b[0;34m.\u001b[0m\u001b[0mgenerate_from_frequencies\u001b[0m\u001b[0;34m(\u001b[0m\u001b[0mword_frequencies\u001b[0m\u001b[0;34m)\u001b[0m\u001b[0;34m\u001b[0m\u001b[0m\n\u001b[1;32m      4\u001b[0m \u001b[0;34m\u001b[0m\u001b[0m\n\u001b[1;32m      5\u001b[0m \u001b[0mplt\u001b[0m\u001b[0;34m.\u001b[0m\u001b[0mfigure\u001b[0m\u001b[0;34m(\u001b[0m\u001b[0mfigsize\u001b[0m\u001b[0;34m=\u001b[0m\u001b[0;34m(\u001b[0m\u001b[0;36m18\u001b[0m\u001b[0;34m,\u001b[0m \u001b[0;36m16\u001b[0m\u001b[0;34m)\u001b[0m\u001b[0;34m)\u001b[0m\u001b[0;34m\u001b[0m\u001b[0m\n",
      "\u001b[0;31mModuleNotFoundError\u001b[0m: No module named 'wordcloud'"
     ]
    }
   ],
   "source": [
    "import matplotlib.pyplot as plt\n",
    "from wordcloud import WordCloud\n",
    "wordcloud = WordCloud().generate_from_frequencies(word_frequencies)\n",
    "\n",
    "plt.figure(figsize=(18, 16))\n",
    "plt.imshow(wordcloud, interpolation='bilinear')\n",
    "plt.axis(\"off\")"
   ]
  },
  {
   "cell_type": "markdown",
   "metadata": {},
   "source": [
    "## 4. Model the data (optional)"
   ]
  },
  {
   "cell_type": "markdown",
   "metadata": {},
   "source": [
    "## 5. Communicate the data."
   ]
  },
  {
   "cell_type": "code",
   "execution_count": null,
   "metadata": {
    "collapsed": true
   },
   "outputs": [],
   "source": []
  },
  {
   "cell_type": "code",
   "execution_count": null,
   "metadata": {
    "collapsed": true
   },
   "outputs": [],
   "source": []
  }
 ],
 "metadata": {
  "kernelspec": {
   "display_name": "Python 3",
   "language": "python",
   "name": "python3"
  },
  "language_info": {
   "codemirror_mode": {
    "name": "ipython",
    "version": 3
   },
   "file_extension": ".py",
   "mimetype": "text/x-python",
   "name": "python",
   "nbconvert_exporter": "python",
   "pygments_lexer": "ipython3",
   "version": "3.6.3"
  }
 },
 "nbformat": 4,
 "nbformat_minor": 2
}
